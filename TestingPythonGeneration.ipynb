{
  "nbformat": 4,
  "nbformat_minor": 0,
  "metadata": {
    "colab": {
      "provenance": [],
      "authorship_tag": "ABX9TyPoiODwWFHt5NfXJOPHrFGx",
      "include_colab_link": true
    },
    "kernelspec": {
      "name": "python3",
      "display_name": "Python 3"
    },
    "language_info": {
      "name": "python"
    }
  },
  "cells": [
    {
      "cell_type": "markdown",
      "metadata": {
        "id": "view-in-github",
        "colab_type": "text"
      },
      "source": [
        "<a href=\"https://colab.research.google.com/github/Vavilexxx/g-drive-colabs/blob/main/TestingPythonGeneration.ipynb\" target=\"_parent\"><img src=\"https://colab.research.google.com/assets/colab-badge.svg\" alt=\"Open In Colab\"/></a>"
      ]
    },
    {
      "cell_type": "code",
      "execution_count": null,
      "metadata": {
        "id": "EtZbwwInVKuL"
      },
      "outputs": [],
      "source": [
        "# import sys\n",
        "# import io\n",
        "# import os\n",
        "# import zipfile\n",
        "# import requests as rq\n",
        "# from contextlib import redirect_stdout"
      ]
    },
    {
      "cell_type": "code",
      "source": [
        "# # Создаём объект StringIO для захвата вывода\n",
        "# f = io.StringIO()\n",
        "\n",
        "# # Перенаправляем stdout в StringIO\n",
        "# with redirect_stdout(f):\n",
        "#     print(\"Hello, World!\")\n",
        "#     print(\"Python Programming\")\n",
        "\n",
        "# # Получаем захваченный вывод\n",
        "# output = f.getvalue()\n",
        "# print(\"Captured output:\", output)"
      ],
      "metadata": {
        "id": "nYCGIwuzdmPK"
      },
      "execution_count": null,
      "outputs": []
    },
    {
      "cell_type": "code",
      "source": [
        "# # Определяем код для выполнения\n",
        "# code = \"\"\"\n",
        "# print(\"Hello, world!\")\n",
        "# a = 1 + 2\n",
        "# print(\"The value of a is:\", a)\n",
        "# \"\"\"\n",
        "\n",
        "# # Создаём буфер для захвата вывода\n",
        "# out_buffer = io.StringIO()\n",
        "\n",
        "# # Выполняем код и захватываем вывод\n",
        "# with redirect_stdout(out_buffer):\n",
        "#     exec(code)\n",
        "\n",
        "# # Печатаем захваченный вывод\n",
        "# print(out_buffer.getvalue())"
      ],
      "metadata": {
        "id": "S3yR_cSghm2W"
      },
      "execution_count": null,
      "outputs": []
    },
    {
      "cell_type": "markdown",
      "source": [
        "В качестве аргумента функция принимает название архива.\n",
        "\n",
        "Указываем имя архива с расширением, если нужна проверка задач на реализацию функций:\n",
        "\n",
        "testing_lesson('16.zip')\n",
        "\n",
        "Если указать имя без расширения, то например, в функцию tests_2817395() будет передано содержимое из файлов архива tests_2817395.zip (для задач без функций):\n",
        "\n",
        "testing_lesson('tests_2817395')\n",
        "\n",
        "Как то так)\n",
        "\n",
        "[Тут источник](https://stepik.org/lesson/810856/step/16?discussion=8285327&unit=816647)"
      ],
      "metadata": {
        "id": "Mm2JZ_DZvs8R"
      }
    },
    {
      "cell_type": "code",
      "source": [
        "import io\n",
        "import os\n",
        "import sys\n",
        "import requests\n",
        "from zipfile import ZipFile\n",
        "from contextlib import redirect_stdout\n",
        "\n",
        "orig_stdin = sys.stdin\n",
        "# sys.stdin = open(0)\n",
        "# input = sys.stdin.readline().decode\n",
        "input = lambda: next(sys.stdin).decode().rstrip('\\n')\n",
        "\n",
        "def get_file(url: str, filename: str) -> None:\n",
        "    response = requests.get(url)\n",
        "    with open(filename, \"wb\") as file:\n",
        "        file.write(response.content)\n",
        "\n",
        "\n",
        "def print_result(code: str, obtained_out: str, expect_out: str) -> None:\n",
        "    print('\\b', ('🚫 не', '✔️')[obtained_out == expect_out], 'верно')\n",
        "    print(f'Код:')\n",
        "    print(code)\n",
        "    print('\\nВаш результат:')\n",
        "    print(obtained_out)\n",
        "    print('\\nОжидаемый результат:')\n",
        "    print(expect_out)\n",
        "    print()\n",
        "\n",
        "\n",
        "def testing_lesson(url: str, /, solve: callable=None, *, compact: bool=True) -> None:\n",
        "    '''\n",
        "    Функция выполняет код из каждого файла в архиве\n",
        "    и выводит результат выполнения вашего кода и ожидаемый результат\n",
        "\n",
        "    Аргументы:\n",
        "    url: str -- ссылка на архив\n",
        "    compact: bool -- если True выводит только ошибочные тесты\n",
        "    '''\n",
        "    zip_name = os.path.basename(url)\n",
        "    get_file(url, zip_name)\n",
        "\n",
        "    with ZipFile(zip_name) as zfile:\n",
        "        length = len(zfile.namelist()) // 2\n",
        "        zfile_it = iter(zfile.filelist)\n",
        "        files = (\n",
        "            (zfile.open(zcode.filename),\n",
        "             zfile.open(zout.filename).read().decode())\n",
        "            for zcode, zout in zip(zfile_it, zfile_it)\n",
        "        )\n",
        "        for i, (code_file, expect_out) in enumerate(files, 1):\n",
        "            # Создаём буфер для захвата вывода\n",
        "            out_buffer = io.StringIO()\n",
        "\n",
        "            # Выполняем код и захватываем вывод\n",
        "            with redirect_stdout(out_buffer):\n",
        "                try:\n",
        "                    if solve:\n",
        "                        sys.stdin = code_file\n",
        "                        solve()\n",
        "                    else:\n",
        "                        # exec(compile(zip_name + '(code)', 'tests', 'exec'))\n",
        "                        code_file = code_file.read().decode()\n",
        "                        exec(code_file)\n",
        "                except Exception as e:\n",
        "                    print(e)\n",
        "\n",
        "            # Получаем захваченный вывод\n",
        "            obtained_out = out_buffer.getvalue().strip()\n",
        "\n",
        "            # Выводим результат\n",
        "            print(f'Тест № {i} из {length}:')\n",
        "            if compact is True and obtained_out == expect_out:\n",
        "                print('\\b', '✔️ ok')\n",
        "            else:\n",
        "                print_result(code_file, obtained_out, expect_out)\n",
        "                print('-' * 35, '\\n')"
      ],
      "metadata": {
        "id": "ur7pGcoxxcnJ"
      },
      "execution_count": null,
      "outputs": []
    },
    {
      "cell_type": "markdown",
      "source": [
        "# **Решение с input**"
      ],
      "metadata": {
        "id": "NQofQtQqXdGC"
      }
    },
    {
      "cell_type": "code",
      "source": [
        "def solve() -> None:\n",
        "    \"\"\"Ваш код ниже\"\"\"\n",
        "    names = [input().split('@')[0] for _ in range(int(input()))]\n",
        "\n",
        "    for _ in range(int(input())):\n",
        "        name = input()\n",
        "        counter = 1\n",
        "        while name in names:\n",
        "            name = name.rstrip('1234567890') + str(counter)\n",
        "            counter += 1\n",
        "        names.append(name)\n",
        "        print(f'{name}@beegeek.bzz')"
      ],
      "metadata": {
        "id": "d9jG3IYKn5R-"
      },
      "execution_count": null,
      "outputs": []
    },
    {
      "cell_type": "markdown",
      "source": [
        "# **Решение обычное**"
      ],
      "metadata": {
        "id": "b5aCATm-nq37"
      }
    },
    {
      "cell_type": "code",
      "source": [],
      "metadata": {
        "id": "yGowLW_hV8Zy"
      },
      "execution_count": null,
      "outputs": []
    },
    {
      "cell_type": "code",
      "source": [
        "# Тест\n"
      ],
      "metadata": {
        "id": "oK7oxz1wScji"
      },
      "execution_count": null,
      "outputs": []
    },
    {
      "cell_type": "markdown",
      "source": [
        "# **Тесты**"
      ],
      "metadata": {
        "id": "fs-PpTOnXhc-"
      }
    },
    {
      "cell_type": "code",
      "source": [
        "url = r\"\"\"\n",
        "https://stepik.org/media/attachments/lesson/872533/11.zip\n",
        "\"\"\".strip()\n",
        "\n",
        "# Обычное решение\n",
        "testing_lesson(url, compact=True)\n",
        "\n",
        "url = r\"\"\"\n",
        "https://stepik.org/media/attachments/lesson/569749/tests_2310074.zip\n",
        "\"\"\".strip()\n",
        "\n",
        "# Решение с input\n",
        "# testing_lesson(url, solve, compact=True)"
      ],
      "metadata": {
        "id": "vJepRwtHyTId",
        "colab": {
          "base_uri": "https://localhost:8080/"
        },
        "outputId": "49281cbc-63d9-4ad6-e4c2-37848ad3983f"
      },
      "execution_count": null,
      "outputs": [
        {
          "output_type": "stream",
          "name": "stdout",
          "text": [
            "Тест № 1 из 10:\n",
            "\b ✔️ ok\n",
            "Тест № 2 из 10:\n",
            "\b ✔️ ok\n",
            "Тест № 3 из 10:\n",
            "\b ✔️ ok\n",
            "Тест № 4 из 10:\n",
            "\b ✔️ ok\n",
            "Тест № 5 из 10:\n",
            "\b ✔️ ok\n",
            "Тест № 6 из 10:\n",
            "\b ✔️ ok\n",
            "Тест № 7 из 10:\n",
            "\b ✔️ ok\n",
            "Тест № 8 из 10:\n",
            "\b ✔️ ok\n",
            "Тест № 9 из 10:\n",
            "\b ✔️ ok\n",
            "Тест № 10 из 10:\n",
            "\b ✔️ ok\n"
          ]
        }
      ]
    },
    {
      "cell_type": "code",
      "source": [
        "lst = [1, 2, 3, 4]\n",
        "print(id(lst))     # 39652288\n",
        "\n",
        "lst[1:3] = [5, 6]  # Тут произошла замена среза в ТЕКУЩЕМ списке на новый список\n",
        "print(lst)         # [1, 5, 6, 4]\n",
        "print(id(lst))     # 39652288\n",
        "\n",
        "# Если взять срез всего списка\n",
        "lst[:] = [5, 6]    # Тут тоже замена в ТЕКУЩЕМ списке ВСЕГО списка\n",
        "print(lst)         # [5, 6]\n",
        "print(id(lst))     # 39652288"
      ],
      "metadata": {
        "id": "6knvoo4tE6Dq",
        "outputId": "00d7e0d0-ebbe-422b-aac6-c4dfc1616e4e",
        "colab": {
          "base_uri": "https://localhost:8080/"
        }
      },
      "execution_count": null,
      "outputs": [
        {
          "output_type": "stream",
          "name": "stdout",
          "text": [
            "134251609433472\n",
            "[1, 5, 6, 4]\n",
            "134251609433472\n",
            "[5, 6]\n",
            "134251609433472\n"
          ]
        }
      ]
    }
  ]
}